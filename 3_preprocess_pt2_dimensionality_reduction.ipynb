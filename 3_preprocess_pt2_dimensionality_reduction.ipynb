{
  "nbformat": 4,
  "nbformat_minor": 0,
  "metadata": {
    "colab": {
      "provenance": [],
      "authorship_tag": "ABX9TyOoZx3Bz1YhxeJcS+XGvb3D",
      "include_colab_link": true
    },
    "kernelspec": {
      "name": "python3",
      "display_name": "Python 3"
    },
    "language_info": {
      "name": "python"
    }
  },
  "cells": [
    {
      "cell_type": "markdown",
      "metadata": {
        "id": "view-in-github",
        "colab_type": "text"
      },
      "source": [
        "<a href=\"https://colab.research.google.com/github/bootstrap86/soccer_score_predictor/blob/main/3_preprocess_pt2_dimensionality_reduction.ipynb\" target=\"_parent\"><img src=\"https://colab.research.google.com/assets/colab-badge.svg\" alt=\"Open In Colab\"/></a>"
      ]
    },
    {
      "cell_type": "code",
      "execution_count": null,
      "metadata": {
        "id": "prrf3_VuMslH"
      },
      "outputs": [],
      "source": [
        "### BUNDESLIGA PREDI"
      ]
    },
    {
      "cell_type": "markdown",
      "source": [
        "# Bundesliga Predictor"
      ],
      "metadata": {
        "id": "SBnsuUUcM4Fs"
      }
    },
    {
      "cell_type": "code",
      "source": [],
      "metadata": {
        "id": "gJgueSmnFk9T"
      },
      "execution_count": null,
      "outputs": []
    }
  ]
}